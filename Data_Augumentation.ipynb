{
  "nbformat": 4,
  "nbformat_minor": 0,
  "metadata": {
    "colab": {
      "provenance": [],
      "machine_shape": "hm"
    },
    "kernelspec": {
      "name": "python3",
      "display_name": "Python 3"
    },
    "language_info": {
      "name": "python"
    }
  },
  "cells": [
    {
      "cell_type": "code",
      "execution_count": null,
      "metadata": {
        "colab": {
          "base_uri": "https://localhost:8080/"
        },
        "id": "-0jqOSasoPHZ",
        "outputId": "e29a7a0c-a6fa-4530-fd6b-52d0b253d39c"
      },
      "outputs": [
        {
          "output_type": "stream",
          "name": "stdout",
          "text": [
            "Mounted at /content/drive\n"
          ]
        }
      ],
      "source": [
        "from google.colab import drive\n",
        "drive.mount('/content/drive')\n"
      ]
    },
    {
      "cell_type": "markdown",
      "source": [
        "Pulling the code from the google drive\n",
        "The images are in seperate folders where we are considering the following 8 categories\n",
        "\n",
        "1)Plastic\n",
        "2)Cardboard\n",
        "3)Metal\n",
        "4)Glass\n",
        "5)Medical Waste\n",
        "6)Organic waste\n",
        "7)Word\n",
        "8)Paper"
      ],
      "metadata": {
        "id": "Lt90jn9Po4f7"
      }
    },
    {
      "cell_type": "code",
      "source": [
        "import os\n",
        "\n",
        "# Define the folder path to your 'Final_DataSet' folder\n",
        "folder_path = '/content/drive/My Drive/Final DataSet'\n",
        "\n",
        "# Specify the categories (folder names) you want to count images from\n",
        "categories = ['plastic', 'cardboard', 'metal', 'glass', 'medical',\n",
        "              'Organic Waste', 'Wood', 'paper']\n",
        "\n",
        "# Function to count the number of images in each category folder\n",
        "def count_files_in_folders(folder_path):\n",
        "    for root, dirs, files in os.walk(folder_path):\n",
        "        folder_name = os.path.basename(root)\n",
        "\n",
        "        # Check if the folder is one of the categories of interest\n",
        "        if folder_name in categories:\n",
        "            # Count only image files with the specified extensions\n",
        "            num_images = len([f for f in files if f.lower().endswith(('.png', '.jpg', '.jpeg'))])\n",
        "\n",
        "            # Print category and total number of images\n",
        "            if num_images > 0:\n",
        "                print(f\"Category: {folder_name} | Total images: {num_images}\")\n",
        "\n",
        "# Call the function to count files\n",
        "count_files_in_folders(folder_path)\n"
      ],
      "metadata": {
        "id": "B_Ok5ww-o3Yp",
        "colab": {
          "base_uri": "https://localhost:8080/"
        },
        "outputId": "16afc813-9819-463a-fa84-900aea31f045"
      },
      "execution_count": null,
      "outputs": [
        {
          "output_type": "stream",
          "name": "stdout",
          "text": [
            "Category: metal | Total images: 2259\n",
            "Category: glass | Total images: 2518\n",
            "Category: plastic | Total images: 2617\n",
            "Category: paper | Total images: 2749\n",
            "Category: medical | Total images: 1605\n",
            "Category: Organic Waste | Total images: 277\n",
            "Category: cardboard | Total images: 2332\n",
            "Category: Wood | Total images: 347\n"
          ]
        }
      ]
    },
    {
      "cell_type": "markdown",
      "source": [
        "The highest count of images among our categories is 2749 (Paper). We are setting this as the target count for balancing. This approach would require augmenting images in the under-represented categories.\n",
        "\n",
        "Here under represented categories are\n",
        "Wood - 347\n",
        "medical -1605\n",
        "cardboard - 2332"
      ],
      "metadata": {
        "id": "sH5lFF3htjgJ"
      }
    },
    {
      "cell_type": "markdown",
      "source": [
        "Use augmentation techniques (rotation, flipping, zooming, etc.) to generate new samples"
      ],
      "metadata": {
        "id": "dtWNk6P8t-UA"
      }
    },
    {
      "cell_type": "code",
      "source": [
        "import os\n",
        "import random\n",
        "from tensorflow.keras.preprocessing.image import ImageDataGenerator, img_to_array, load_img, save_img\n",
        "\n",
        "# Define the target number of images for balancing\n",
        "target_num_images = 2749\n",
        "\n",
        "# Data augmentation settings for balancing\n",
        "datagen = ImageDataGenerator(\n",
        "    rotation_range=20,\n",
        "    width_shift_range=0.2,\n",
        "    height_shift_range=0.2,\n",
        "    shear_range=0.15,\n",
        "    zoom_range=0.15,\n",
        "    horizontal_flip=True,\n",
        "    fill_mode='nearest'\n",
        ")\n",
        "\n",
        "# List of categories with their current counts\n",
        "categories = {\n",
        "    'plastic': 2617,\n",
        "    'cardboard': 2332,\n",
        "    'metal': 2478,\n",
        "    'glass': 2518,\n",
        "    'medical': 1605,\n",
        "    'Organic Waste': 277,  # Updated to include current count\n",
        "    'Wood': 347,\n",
        "    'paper': 2749\n",
        "}\n",
        "\n",
        "# Specify categories for augmentation (only Wood, Medical Waste, and Organic Waste)\n",
        "augmented_categories = ['Wood','cardboard','medical', 'Organic Waste']\n",
        "\n",
        "# Function to balance the dataset by augmenting images\n",
        "def balance_dataset(dataset_path):\n",
        "    for category, count in categories.items():\n",
        "        if category in augmented_categories:  # Only augment specified categories\n",
        "            print(f\"Category: {category} | Total images: {count}\")\n",
        "            category_path = os.path.join(dataset_path, category)\n",
        "            images = [img for img in os.listdir(category_path) if img.lower().endswith(('.png', '.jpg', '.jpeg'))]\n",
        "            num_images = len(images)\n",
        "            print(f\"Balancing {category}: {num_images} -> {target_num_images}\")\n",
        "\n",
        "            # Create a new directory for augmented images\n",
        "            augmented_dir = os.path.join(category_path, 'augmented')\n",
        "            os.makedirs(augmented_dir, exist_ok=True)\n",
        "\n",
        "            while num_images < target_num_images:\n",
        "                img_path = os.path.join(category_path, random.choice(images))\n",
        "                img = load_img(img_path)\n",
        "                x = img_to_array(img)\n",
        "                x = x.reshape((1,) + x.shape)  # Reshape for the generator\n",
        "\n",
        "                # Generate augmented images\n",
        "                for batch in datagen.flow(x, batch_size=1):\n",
        "                    new_img_name = f\"aug_{random.randint(0, 10000)}.jpg\"\n",
        "                    new_img_path = os.path.join(augmented_dir, new_img_name)  # Save in the new folder\n",
        "                    save_img(new_img_path, batch[0])\n",
        "                    num_images += 1\n",
        "                    if num_images >= target_num_images:\n",
        "                        break\n",
        "\n",
        "\n",
        "# Path to your dataset (update this variable to your actual dataset path)\n",
        "dataset_path = '/content/drive/My Drive/Final DataSet'\n",
        "\n",
        "# Balance the dataset\n",
        "balance_dataset(dataset_path)\n"
      ],
      "metadata": {
        "id": "ldnG5L2qsG41",
        "colab": {
          "base_uri": "https://localhost:8080/"
        },
        "outputId": "d3b5c40f-f880-4705-c216-1eb68ea6dd95"
      },
      "execution_count": null,
      "outputs": [
        {
          "output_type": "stream",
          "name": "stdout",
          "text": [
            "Category: cardboard | Total images: 2332\n",
            "Balancing cardboard: 2332 -> 2749\n",
            "Category: medical | Total images: 1605\n",
            "Balancing medical: 1605 -> 2749\n",
            "Category: Organic Waste | Total images: 277\n",
            "Balancing Organic Waste: 277 -> 2749\n",
            "Category: Wood | Total images: 347\n",
            "Balancing Wood: 347 -> 2749\n"
          ]
        }
      ]
    },
    {
      "cell_type": "code",
      "source": [
        "import os\n",
        "\n",
        "# Path to your dataset\n",
        "dataset_path = '/content/drive/My Drive/Final DataSet'\n",
        "\n",
        "# Dictionary to store the count of files in each folder\n",
        "folder_file_counts = {}\n",
        "\n",
        "# Loop through each folder in the dataset directory\n",
        "for folder_name in os.listdir(dataset_path):\n",
        "    folder_path = os.path.join(dataset_path, folder_name)\n",
        "    # Check if the item is a folder\n",
        "    if os.path.isdir(folder_path):\n",
        "        # Count files in the folder (ignoring subfolders)\n",
        "        file_count = len([f for f in os.listdir(folder_path) if os.path.isfile(os.path.join(folder_path, f))])\n",
        "        folder_file_counts[folder_name] = file_count\n",
        "\n",
        "# Print the count of files in each folder\n",
        "for folder, count in folder_file_counts.items():\n",
        "    print(f\"Folder '{folder}': {count} files\")\n"
      ],
      "metadata": {
        "colab": {
          "base_uri": "https://localhost:8080/"
        },
        "id": "tP7naV40qnTP",
        "outputId": "9af3f09b-3e80-426c-8c4f-4aabb5ff7c43"
      },
      "execution_count": null,
      "outputs": [
        {
          "output_type": "stream",
          "name": "stdout",
          "text": [
            "Folder 'duplicate_train': 19138 files\n",
            "Folder 'Textiles': 335 files\n",
            "Folder 'metal': 2259 files\n",
            "Folder 'glass': 2518 files\n",
            "Folder 'plastic': 2617 files\n",
            "Folder 'paper': 2749 files\n",
            "Folder 'e-waste': 2405 files\n",
            "Folder 'medical': 1605 files\n",
            "Folder 'Organic Waste': 277 files\n",
            "Folder 'cardboard': 2332 files\n",
            "Folder 'Wood': 347 files\n",
            "Folder 'Aluminium': 763 files\n",
            "Folder 'MobileNet Models': 6 files\n",
            "Folder 'ResNet Models': 16 files\n",
            "Folder 'Balanced': 2 files\n",
            "Folder 'resized_train_images_by_anthoni': 6 files\n",
            "Folder 'resized_train_final_Anthoni_Sagarika': 17116 files\n"
          ]
        }
      ]
    },
    {
      "cell_type": "code",
      "source": [
        "import os\n",
        "\n",
        "# Path to your dataset\n",
        "dataset_path = '/content/drive/My Drive/Final DataSet'\n",
        "augmented_categories = ['Wood', 'cardboard', 'medical', 'Organic Waste']\n",
        "\n",
        "# Count images in 'augmented' folders for each specified category\n",
        "augmented_counts = {}\n",
        "\n",
        "for category in augmented_categories:\n",
        "    augmented_path = os.path.join(dataset_path, category, 'augmented')\n",
        "    if os.path.exists(augmented_path):\n",
        "        # Count only files (assuming they are images) in the 'augmented' folder\n",
        "        file_count = len([f for f in os.listdir(augmented_path) if os.path.isfile(os.path.join(augmented_path, f))])\n",
        "        augmented_counts[category] = file_count\n",
        "    else:\n",
        "        augmented_counts[category] = 0  # If 'augmented' folder doesn't exist\n",
        "\n",
        "# Print the counts\n",
        "for category, count in augmented_counts.items():\n",
        "    print(f\"Category '{category}' has {count} images in the 'augmented' folder\")\n"
      ],
      "metadata": {
        "colab": {
          "base_uri": "https://localhost:8080/"
        },
        "id": "NAclR1G4rTEN",
        "outputId": "628e3485-eb32-48f3-dcf5-d4310d96bad0"
      },
      "execution_count": null,
      "outputs": [
        {
          "output_type": "stream",
          "name": "stdout",
          "text": [
            "Category 'Wood' has 2111 images in the 'augmented' folder\n",
            "Category 'cardboard' has 410 images in the 'augmented' folder\n",
            "Category 'medical' has 1088 images in the 'augmented' folder\n",
            "Category 'Organic Waste' has 2209 images in the 'augmented' folder\n"
          ]
        }
      ]
    },
    {
      "cell_type": "code",
      "source": [
        "import os\n",
        "\n",
        "# Path to your dataset\n",
        "dataset_path = '/content/drive/My Drive/Final DataSet'\n",
        "\n",
        "# Categories with initial counts\n",
        "categories = {\n",
        "    'plastic': 2617,\n",
        "    'cardboard': 2332,\n",
        "    'metal': 2478,\n",
        "    'glass': 2518,\n",
        "    'medical': 1605,\n",
        "    'Organic Waste': 277,\n",
        "    'Wood': 347,\n",
        "    'paper': 2749\n",
        "}\n",
        "\n",
        "# Dictionary to store total counts for each category (including augmented images)\n",
        "total_counts = {}\n",
        "\n",
        "for category in categories:\n",
        "    category_path = os.path.join(dataset_path, category)\n",
        "    augmented_path = os.path.join(category_path, 'augmented')\n",
        "\n",
        "    # Count original images in the main category folder\n",
        "    original_count = len([f for f in os.listdir(category_path) if os.path.isfile(os.path.join(category_path, f))])\n",
        "\n",
        "    # Count images in the 'augmented' subfolder if it exists\n",
        "    augmented_count = 0\n",
        "    if os.path.exists(augmented_path):\n",
        "        augmented_count = len([f for f in os.listdir(augmented_path) if os.path.isfile(os.path.join(augmented_path, f))])\n",
        "\n",
        "    # Total count is the sum of original and augmented counts\n",
        "    total_counts[category] = original_count + augmented_count\n",
        "\n",
        "# Print the total counts for each category\n",
        "for category, count in total_counts.items():\n",
        "    print(f\"Category '{category}' has a total of {count} images (including augmented images)\")\n"
      ],
      "metadata": {
        "colab": {
          "base_uri": "https://localhost:8080/"
        },
        "id": "G3iP3Ybsrkh5",
        "outputId": "b70b8b9a-2bf0-4f8f-d37a-1aa7d4133643"
      },
      "execution_count": null,
      "outputs": [
        {
          "output_type": "stream",
          "name": "stdout",
          "text": [
            "Category 'plastic' has a total of 2617 images (including augmented images)\n",
            "Category 'cardboard' has a total of 2742 images (including augmented images)\n",
            "Category 'metal' has a total of 2259 images (including augmented images)\n",
            "Category 'glass' has a total of 2518 images (including augmented images)\n",
            "Category 'medical' has a total of 2693 images (including augmented images)\n",
            "Category 'Organic Waste' has a total of 2486 images (including augmented images)\n",
            "Category 'Wood' has a total of 2458 images (including augmented images)\n",
            "Category 'paper' has a total of 2749 images (including augmented images)\n"
          ]
        }
      ]
    },
    {
      "cell_type": "code",
      "source": [
        "# Print final counts after all processing\n",
        "def print_final_counts():\n",
        "    for category in categories.keys():\n",
        "        if category in augmented_categories:\n",
        "            print(f\"Final total images for {category}: {target_num_images}\")\n",
        "        else:\n",
        "            print(f\"Total images for {category}: {categories[category]}\")\n",
        "\n",
        "print_final_counts()\n"
      ],
      "metadata": {
        "colab": {
          "base_uri": "https://localhost:8080/",
          "height": 297
        },
        "id": "SuLl3Fy808GK",
        "outputId": "2d96a9b4-6f0a-4306-feec-5222c1ed0ba6"
      },
      "execution_count": null,
      "outputs": [
        {
          "output_type": "error",
          "ename": "AttributeError",
          "evalue": "'list' object has no attribute 'keys'",
          "traceback": [
            "\u001b[0;31m---------------------------------------------------------------------------\u001b[0m",
            "\u001b[0;31mAttributeError\u001b[0m                            Traceback (most recent call last)",
            "\u001b[0;32m<ipython-input-3-287f9719b881>\u001b[0m in \u001b[0;36m<cell line: 9>\u001b[0;34m()\u001b[0m\n\u001b[1;32m      7\u001b[0m             \u001b[0mprint\u001b[0m\u001b[0;34m(\u001b[0m\u001b[0;34mf\"Total images for {category}: {categories[category]}\"\u001b[0m\u001b[0;34m)\u001b[0m\u001b[0;34m\u001b[0m\u001b[0;34m\u001b[0m\u001b[0m\n\u001b[1;32m      8\u001b[0m \u001b[0;34m\u001b[0m\u001b[0m\n\u001b[0;32m----> 9\u001b[0;31m \u001b[0mprint_final_counts\u001b[0m\u001b[0;34m(\u001b[0m\u001b[0;34m)\u001b[0m\u001b[0;34m\u001b[0m\u001b[0;34m\u001b[0m\u001b[0m\n\u001b[0m",
            "\u001b[0;32m<ipython-input-3-287f9719b881>\u001b[0m in \u001b[0;36mprint_final_counts\u001b[0;34m()\u001b[0m\n\u001b[1;32m      1\u001b[0m \u001b[0;31m# Print final counts after all processing\u001b[0m\u001b[0;34m\u001b[0m\u001b[0;34m\u001b[0m\u001b[0m\n\u001b[1;32m      2\u001b[0m \u001b[0;32mdef\u001b[0m \u001b[0mprint_final_counts\u001b[0m\u001b[0;34m(\u001b[0m\u001b[0;34m)\u001b[0m\u001b[0;34m:\u001b[0m\u001b[0;34m\u001b[0m\u001b[0;34m\u001b[0m\u001b[0m\n\u001b[0;32m----> 3\u001b[0;31m     \u001b[0;32mfor\u001b[0m \u001b[0mcategory\u001b[0m \u001b[0;32min\u001b[0m \u001b[0mcategories\u001b[0m\u001b[0;34m.\u001b[0m\u001b[0mkeys\u001b[0m\u001b[0;34m(\u001b[0m\u001b[0;34m)\u001b[0m\u001b[0;34m:\u001b[0m\u001b[0;34m\u001b[0m\u001b[0;34m\u001b[0m\u001b[0m\n\u001b[0m\u001b[1;32m      4\u001b[0m         \u001b[0;32mif\u001b[0m \u001b[0mcategory\u001b[0m \u001b[0;32min\u001b[0m \u001b[0maugmented_categories\u001b[0m\u001b[0;34m:\u001b[0m\u001b[0;34m\u001b[0m\u001b[0;34m\u001b[0m\u001b[0m\n\u001b[1;32m      5\u001b[0m             \u001b[0mprint\u001b[0m\u001b[0;34m(\u001b[0m\u001b[0;34mf\"Final total images for {category}: {target_num_images}\"\u001b[0m\u001b[0;34m)\u001b[0m\u001b[0;34m\u001b[0m\u001b[0;34m\u001b[0m\u001b[0m\n",
            "\u001b[0;31mAttributeError\u001b[0m: 'list' object has no attribute 'keys'"
          ]
        }
      ]
    },
    {
      "cell_type": "markdown",
      "source": [
        "Performing Feature extraction from the above mentioned categories using Inception V3"
      ],
      "metadata": {
        "id": "rVPZfLVQ2tdE"
      }
    },
    {
      "cell_type": "code",
      "source": [
        "import os\n",
        "\n",
        "# Define the folder path to your 'Final_DataSet' folder\n",
        "folder_path = '/content/drive/My Drive/Final DataSet'\n",
        "\n",
        "# Specify the categories (folder names) you want to count images from\n",
        "categories = ['e-waste','Aluminium','Textiles']\n",
        "\n",
        "# Function to count the number of images in each category folder\n",
        "def count_files_in_folders(folder_path):\n",
        "    for root, dirs, files in os.walk(folder_path):\n",
        "        folder_name = os.path.basename(root)\n",
        "\n",
        "        # Check if the folder is one of the categories of interest\n",
        "        if folder_name in categories:\n",
        "            # Count only image files with the specified extensions\n",
        "            num_images = len([f for f in files if f.lower().endswith(('.png', '.jpg', '.jpeg'))])\n",
        "\n",
        "            # Print category and total number of images\n",
        "            if num_images > 0:\n",
        "                print(f\"Category: {folder_name} | Total images: {num_images}\")\n",
        "\n",
        "# Call the function to count files\n",
        "count_files_in_folders(folder_path)\n"
      ],
      "metadata": {
        "colab": {
          "base_uri": "https://localhost:8080/"
        },
        "id": "2E2_RmrzEEIU",
        "outputId": "ca0c24fe-030c-4eb0-8bc5-c080149715a7"
      },
      "execution_count": null,
      "outputs": [
        {
          "output_type": "stream",
          "name": "stdout",
          "text": [
            "Category: Textiles | Total images: 335\n",
            "Category: e-waste | Total images: 2405\n",
            "Category: Aluminium | Total images: 763\n"
          ]
        }
      ]
    },
    {
      "cell_type": "markdown",
      "source": [
        "Also performed the augumentation for Textile category and removed Aluminium"
      ],
      "metadata": {
        "id": "jwVIoqzrHxFm"
      }
    },
    {
      "cell_type": "markdown",
      "source": [
        "Train + Test Split"
      ],
      "metadata": {
        "id": "ZgDNgqymtLIk"
      }
    },
    {
      "cell_type": "code",
      "source": [
        "import os\n",
        "import shutil\n",
        "import random\n",
        "from sklearn.model_selection import train_test_split\n",
        "from tensorflow.keras.preprocessing.image import load_img, img_to_array, save_img\n",
        "\n",
        "# Set the dataset path\n",
        "dataset_path = '/content/drive/My Drive/Final DataSet'\n",
        "\n",
        "# Create the target directories for training and testing data\n",
        "train_dir = os.path.join(dataset_path, 'train')\n",
        "test_dir = os.path.join(dataset_path, 'test')\n",
        "\n",
        "# Create the main directories for train and test\n",
        "os.makedirs(train_dir, exist_ok=True)\n",
        "os.makedirs(test_dir, exist_ok=True)\n",
        "\n",
        "# Define the categories (use your list of categories)\n",
        "categories = ['plastic', 'cardboard', 'metal', 'glass', 'medical', 'Organic Waste', 'Wood', 'paper']\n",
        "\n",
        "# Split the dataset into train and test\n",
        "def split_data():\n",
        "    for category in categories:\n",
        "        category_path = os.path.join(dataset_path, category)\n",
        "\n",
        "        # Create subdirectories for each category in train and test\n",
        "        train_category_path = os.path.join(train_dir, category)\n",
        "        test_category_path = os.path.join(test_dir, category)\n",
        "        os.makedirs(train_category_path, exist_ok=True)\n",
        "        os.makedirs(test_category_path, exist_ok=True)\n",
        "\n",
        "        # List all the images in the category folder\n",
        "        images = [img for img in os.listdir(category_path) if img.lower().endswith(('.png', '.jpg', '.jpeg'))]\n",
        "\n",
        "        # Split the images into train and test\n",
        "        train_images, test_images = train_test_split(images, test_size=0.2, random_state=42)\n",
        "\n",
        "        # Move the images to respective folders\n",
        "        for img_name in train_images:\n",
        "            src = os.path.join(category_path, img_name)\n",
        "            dst = os.path.join(train_category_path, img_name)\n",
        "            shutil.copy(src, dst)\n",
        "\n",
        "        for img_name in test_images:\n",
        "            src = os.path.join(category_path, img_name)\n",
        "            dst = os.path.join(test_category_path, img_name)\n",
        "            shutil.copy(src, dst)\n",
        "\n",
        "# Perform the split\n",
        "split_data()\n",
        "\n",
        "print(\"Train-test split is complete.\")\n"
      ],
      "metadata": {
        "id": "qZqGDO1UH3L7",
        "colab": {
          "base_uri": "https://localhost:8080/",
          "height": 356
        },
        "outputId": "4b3ac761-a029-4325-c678-f4b212e7a2d3"
      },
      "execution_count": null,
      "outputs": [
        {
          "output_type": "error",
          "ename": "KeyboardInterrupt",
          "evalue": "",
          "traceback": [
            "\u001b[0;31m---------------------------------------------------------------------------\u001b[0m",
            "\u001b[0;31mKeyboardInterrupt\u001b[0m                         Traceback (most recent call last)",
            "\u001b[0;32m<ipython-input-7-576196871b55>\u001b[0m in \u001b[0;36m<cell line: 50>\u001b[0;34m()\u001b[0m\n\u001b[1;32m     48\u001b[0m \u001b[0;34m\u001b[0m\u001b[0m\n\u001b[1;32m     49\u001b[0m \u001b[0;31m# Perform the split\u001b[0m\u001b[0;34m\u001b[0m\u001b[0;34m\u001b[0m\u001b[0m\n\u001b[0;32m---> 50\u001b[0;31m \u001b[0msplit_data\u001b[0m\u001b[0;34m(\u001b[0m\u001b[0;34m)\u001b[0m\u001b[0;34m\u001b[0m\u001b[0;34m\u001b[0m\u001b[0m\n\u001b[0m\u001b[1;32m     51\u001b[0m \u001b[0;34m\u001b[0m\u001b[0m\n\u001b[1;32m     52\u001b[0m \u001b[0mprint\u001b[0m\u001b[0;34m(\u001b[0m\u001b[0;34m\"Train-test split is complete.\"\u001b[0m\u001b[0;34m)\u001b[0m\u001b[0;34m\u001b[0m\u001b[0;34m\u001b[0m\u001b[0m\n",
            "\u001b[0;32m<ipython-input-7-576196871b55>\u001b[0m in \u001b[0;36msplit_data\u001b[0;34m()\u001b[0m\n\u001b[1;32m     40\u001b[0m             \u001b[0msrc\u001b[0m \u001b[0;34m=\u001b[0m \u001b[0mos\u001b[0m\u001b[0;34m.\u001b[0m\u001b[0mpath\u001b[0m\u001b[0;34m.\u001b[0m\u001b[0mjoin\u001b[0m\u001b[0;34m(\u001b[0m\u001b[0mcategory_path\u001b[0m\u001b[0;34m,\u001b[0m \u001b[0mimg_name\u001b[0m\u001b[0;34m)\u001b[0m\u001b[0;34m\u001b[0m\u001b[0;34m\u001b[0m\u001b[0m\n\u001b[1;32m     41\u001b[0m             \u001b[0mdst\u001b[0m \u001b[0;34m=\u001b[0m \u001b[0mos\u001b[0m\u001b[0;34m.\u001b[0m\u001b[0mpath\u001b[0m\u001b[0;34m.\u001b[0m\u001b[0mjoin\u001b[0m\u001b[0;34m(\u001b[0m\u001b[0mtrain_category_path\u001b[0m\u001b[0;34m,\u001b[0m \u001b[0mimg_name\u001b[0m\u001b[0;34m)\u001b[0m\u001b[0;34m\u001b[0m\u001b[0;34m\u001b[0m\u001b[0m\n\u001b[0;32m---> 42\u001b[0;31m             \u001b[0mshutil\u001b[0m\u001b[0;34m.\u001b[0m\u001b[0mcopy\u001b[0m\u001b[0;34m(\u001b[0m\u001b[0msrc\u001b[0m\u001b[0;34m,\u001b[0m \u001b[0mdst\u001b[0m\u001b[0;34m)\u001b[0m\u001b[0;34m\u001b[0m\u001b[0;34m\u001b[0m\u001b[0m\n\u001b[0m\u001b[1;32m     43\u001b[0m \u001b[0;34m\u001b[0m\u001b[0m\n\u001b[1;32m     44\u001b[0m         \u001b[0;32mfor\u001b[0m \u001b[0mimg_name\u001b[0m \u001b[0;32min\u001b[0m \u001b[0mtest_images\u001b[0m\u001b[0;34m:\u001b[0m\u001b[0;34m\u001b[0m\u001b[0;34m\u001b[0m\u001b[0m\n",
            "\u001b[0;32m/usr/lib/python3.10/shutil.py\u001b[0m in \u001b[0;36mcopy\u001b[0;34m(src, dst, follow_symlinks)\u001b[0m\n\u001b[1;32m    415\u001b[0m     \u001b[0;32mif\u001b[0m \u001b[0mos\u001b[0m\u001b[0;34m.\u001b[0m\u001b[0mpath\u001b[0m\u001b[0;34m.\u001b[0m\u001b[0misdir\u001b[0m\u001b[0;34m(\u001b[0m\u001b[0mdst\u001b[0m\u001b[0;34m)\u001b[0m\u001b[0;34m:\u001b[0m\u001b[0;34m\u001b[0m\u001b[0;34m\u001b[0m\u001b[0m\n\u001b[1;32m    416\u001b[0m         \u001b[0mdst\u001b[0m \u001b[0;34m=\u001b[0m \u001b[0mos\u001b[0m\u001b[0;34m.\u001b[0m\u001b[0mpath\u001b[0m\u001b[0;34m.\u001b[0m\u001b[0mjoin\u001b[0m\u001b[0;34m(\u001b[0m\u001b[0mdst\u001b[0m\u001b[0;34m,\u001b[0m \u001b[0mos\u001b[0m\u001b[0;34m.\u001b[0m\u001b[0mpath\u001b[0m\u001b[0;34m.\u001b[0m\u001b[0mbasename\u001b[0m\u001b[0;34m(\u001b[0m\u001b[0msrc\u001b[0m\u001b[0;34m)\u001b[0m\u001b[0;34m)\u001b[0m\u001b[0;34m\u001b[0m\u001b[0;34m\u001b[0m\u001b[0m\n\u001b[0;32m--> 417\u001b[0;31m     \u001b[0mcopyfile\u001b[0m\u001b[0;34m(\u001b[0m\u001b[0msrc\u001b[0m\u001b[0;34m,\u001b[0m \u001b[0mdst\u001b[0m\u001b[0;34m,\u001b[0m \u001b[0mfollow_symlinks\u001b[0m\u001b[0;34m=\u001b[0m\u001b[0mfollow_symlinks\u001b[0m\u001b[0;34m)\u001b[0m\u001b[0;34m\u001b[0m\u001b[0;34m\u001b[0m\u001b[0m\n\u001b[0m\u001b[1;32m    418\u001b[0m     \u001b[0mcopymode\u001b[0m\u001b[0;34m(\u001b[0m\u001b[0msrc\u001b[0m\u001b[0;34m,\u001b[0m \u001b[0mdst\u001b[0m\u001b[0;34m,\u001b[0m \u001b[0mfollow_symlinks\u001b[0m\u001b[0;34m=\u001b[0m\u001b[0mfollow_symlinks\u001b[0m\u001b[0;34m)\u001b[0m\u001b[0;34m\u001b[0m\u001b[0;34m\u001b[0m\u001b[0m\n\u001b[1;32m    419\u001b[0m     \u001b[0;32mreturn\u001b[0m \u001b[0mdst\u001b[0m\u001b[0;34m\u001b[0m\u001b[0;34m\u001b[0m\u001b[0m\n",
            "\u001b[0;32m/usr/lib/python3.10/shutil.py\u001b[0m in \u001b[0;36mcopyfile\u001b[0;34m(src, dst, follow_symlinks)\u001b[0m\n\u001b[1;32m    256\u001b[0m                 \u001b[0;32mwith\u001b[0m \u001b[0mopen\u001b[0m\u001b[0;34m(\u001b[0m\u001b[0mdst\u001b[0m\u001b[0;34m,\u001b[0m \u001b[0;34m'wb'\u001b[0m\u001b[0;34m)\u001b[0m \u001b[0;32mas\u001b[0m \u001b[0mfdst\u001b[0m\u001b[0;34m:\u001b[0m\u001b[0;34m\u001b[0m\u001b[0;34m\u001b[0m\u001b[0m\n\u001b[1;32m    257\u001b[0m                     \u001b[0;31m# macOS\u001b[0m\u001b[0;34m\u001b[0m\u001b[0;34m\u001b[0m\u001b[0m\n\u001b[0;32m--> 258\u001b[0;31m                     \u001b[0;32mif\u001b[0m \u001b[0m_HAS_FCOPYFILE\u001b[0m\u001b[0;34m:\u001b[0m\u001b[0;34m\u001b[0m\u001b[0;34m\u001b[0m\u001b[0m\n\u001b[0m\u001b[1;32m    259\u001b[0m                         \u001b[0;32mtry\u001b[0m\u001b[0;34m:\u001b[0m\u001b[0;34m\u001b[0m\u001b[0;34m\u001b[0m\u001b[0m\n\u001b[1;32m    260\u001b[0m                             \u001b[0m_fastcopy_fcopyfile\u001b[0m\u001b[0;34m(\u001b[0m\u001b[0mfsrc\u001b[0m\u001b[0;34m,\u001b[0m \u001b[0mfdst\u001b[0m\u001b[0;34m,\u001b[0m \u001b[0mposix\u001b[0m\u001b[0;34m.\u001b[0m\u001b[0m_COPYFILE_DATA\u001b[0m\u001b[0;34m)\u001b[0m\u001b[0;34m\u001b[0m\u001b[0;34m\u001b[0m\u001b[0m\n",
            "\u001b[0;31mKeyboardInterrupt\u001b[0m: "
          ]
        }
      ]
    }
  ]
}